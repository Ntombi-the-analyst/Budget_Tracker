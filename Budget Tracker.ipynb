{
 "cells": [
  {
   "cell_type": "markdown",
   "id": "618d327c-8067-4335-924b-e2ec2f17551f",
   "metadata": {},
   "source": [
    "Mpilonde's Budget Tracker"
   ]
  },
  {
   "cell_type": "code",
   "execution_count": 21,
   "id": "9a4fbf56-3cf6-495d-9e6b-ebd7b9647a57",
   "metadata": {},
   "outputs": [],
   "source": [
    "Openning_Balance = 10000.00\n",
    "User_Name = \"Mpilonde Khwela\"\n",
    "Monthly_Expense = \"August\"\n",
    "Year = 2025\n",
    "Budget = 6000.00\n",
    "Currency = \"R\"\n",
    "Monthly_School_Fees = 3500.00\n",
    "Transport = 1000.00\n",
    "School_Activities = 800.00\n",
    "Lunch = 700.00\n",
    "Clossing_Balance = Openning_Balance - Budget\n",
    "Attend_School = True"
   ]
  },
  {
   "cell_type": "code",
   "execution_count": null,
   "id": "2286680c-409f-4b8d-9990-4b0873dea3ce",
   "metadata": {},
   "outputs": [
    {
     "data": {
      "text/plain": [
       "float"
      ]
     },
     "execution_count": 23,
     "metadata": {},
     "output_type": "execute_result"
    }
   ],
   "source": [
    "type(Year)  int\n",
    "type(Monthly_Expense) str\n",
    "type(Monthly_School_Fees) float \n",
    "type(Budget)    float\n",
    "type(Attend_School) bool  \n",
    "type(Openning_Balance) float\n",
    "type(Clossing_Balance) float\n",
    "type(User_Name) str\n",
    "type(Currency) str\n",
    "type(Monthly_School_Fees) float\n",
    "type(Transport) float\n",
    "type(School_Activities) float\n",
    "type(Lunch)     float    "
   ]
  },
  {
   "cell_type": "code",
   "execution_count": 27,
   "id": "546d03bf",
   "metadata": {},
   "outputs": [
    {
     "data": {
      "text/plain": [
       "float"
      ]
     },
     "execution_count": 27,
     "metadata": {},
     "output_type": "execute_result"
    }
   ],
   "source": [
    "type(Budget) "
   ]
  },
  {
   "cell_type": "markdown",
   "id": "d4da3e39-6857-4fe6-87b1-81847cb0bb4e",
   "metadata": {},
   "source": [
    "Mpilonde's Budget Tracker"
   ]
  },
  {
   "cell_type": "code",
   "execution_count": 29,
   "id": "fbadc6c8",
   "metadata": {},
   "outputs": [],
   "source": [
    "categories = [Budget, Monthly_School_Fees, Transport, School_Activities]\n",
    "Amounts =[6000.00, 3500.00, 1000.00, 800.00, 700.00]\n"
   ]
  },
  {
   "cell_type": "code",
   "execution_count": 30,
   "id": "b0f00131",
   "metadata": {},
   "outputs": [],
   "source": [
    "number_of_categories = len(categories)"
   ]
  },
  {
   "cell_type": "markdown",
   "id": "e84e45d3-657f-42a9-a0a1-05d1403d078a",
   "metadata": {},
   "source": [
    "                    Monthly Tracker"
   ]
  },
  {
   "cell_type": "code",
   "execution_count": 4,
   "id": "8a67df7d-907c-42fe-a2f8-33e4b81cce1e",
   "metadata": {},
   "outputs": [
    {
     "name": "stdout",
     "output_type": "stream",
     "text": [
      "Budget for August 2025 : 6000.0\n"
     ]
    }
   ],
   "source": [
    "print('Budget for', Monthly_Expense, Year, ':', Budget)"
   ]
  },
  {
   "cell_type": "code",
   "execution_count": 35,
   "id": "06e7a8c6-444d-41ef-a9e1-b8e77ee1fea2",
   "metadata": {},
   "outputs": [
    {
     "name": "stdout",
     "output_type": "stream",
     "text": [
      "==================================================\n",
      "           Mpilonde's Budget Tracker\n",
      "==================================================\n",
      "Year                       2025\n",
      "Month                      August\n",
      "Currency                   R\n",
      "--------------------------------------------------\n",
      "Name                       Mpilonde Khwela\n",
      "Amount                     10000.0\n",
      "--------------------------------------------------\n",
      "Amount to use              6000.0\n",
      "--------------------------------------------------\n",
      "Monthly School Fees        3500.0\n",
      "Transport                  1000.0\n",
      "School Activities          800.0\n",
      "Lunch                      700.0\n",
      "--------------------------------------------------\n",
      "Closing Balance            4000.0\n",
      "Transactions               4\n",
      "==================================================\n",
      "Thank you for using Mpilonde's Budget Tracker!\n",
      "==================================================\n"
     ]
    }
   ],
   "source": [
    "print( \"=\" * 50)\n",
    "print(\"           Mpilonde's Budget Tracker\")\n",
    "print(\"=\" * 50)\n",
    "print(\"Year\",'                     ', Year)\n",
    "print(\"Month\", '                    ', Monthly_Expense)\n",
    "print(\"Currency\", '                 ', Currency)\n",
    "print(\"-\" * 50)\n",
    "\n",
    "print(\"Name\", '                     ',User_Name)\n",
    "print(\"Amount\", '                   ',Openning_Balance)\n",
    "print(\"-\" * 50)\n",
    "print(\"Amount to use\", '            ',Budget)\n",
    "print(\"-\" * 50)\n",
    "print(\"Monthly School Fees\", '      ', Monthly_School_Fees)\n",
    "print(\"Transport\", '                ', Transport)\n",
    "print(\"School Activities\", '        ', School_Activities)\n",
    "print(\"Lunch\", '                    ', Lunch)\n",
    "print(\"-\" * 50)\n",
    "print(\"Closing Balance\", '          ', Clossing_Balance)\n",
    "print(\"Transactions\", '             ', number_of_categories)\n",
    "print(\"=\" * 50)\n",
    "print(\"Thank you for using Mpilonde's Budget Tracker!\")\n",
    "print(\"=\" * 50)\n",
    "\n",
    "\n"
   ]
  }
 ],
 "metadata": {
  "kernelspec": {
   "display_name": "SQL_Packages",
   "language": "python",
   "name": "python3"
  },
  "language_info": {
   "codemirror_mode": {
    "name": "ipython",
    "version": 3
   },
   "file_extension": ".py",
   "mimetype": "text/x-python",
   "name": "python",
   "nbconvert_exporter": "python",
   "pygments_lexer": "ipython3",
   "version": "3.13.2"
  }
 },
 "nbformat": 4,
 "nbformat_minor": 5
}
